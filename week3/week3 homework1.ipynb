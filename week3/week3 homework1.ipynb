{
 "cells": [
  {
   "cell_type": "code",
   "execution_count": 45,
   "metadata": {
    "collapsed": false
   },
   "outputs": [],
   "source": [
    "from __future__ import division\n",
    "%matplotlib inline\n",
    "import matplotlib.pyplot as plt\n",
    "import tushare as ts\n",
    "import pandas as pd\n",
    "import numpy as np\n",
    "import sklearn\n",
    "from FeatureUtils import *\n",
    "from sklearn import linear_model\n",
    "import matplotlib.pyplot as plt \n",
    "import datetime\n",
    "from sklearn.model_selection import TimeSeriesSplit\n",
    "import seaborn as sns"
   ]
  },
  {
   "cell_type": "code",
   "execution_count": 53,
   "metadata": {
    "collapsed": true
   },
   "outputs": [],
   "source": [
    "data = ts.get_hist_data(\"hs300\")"
   ]
  },
  {
   "cell_type": "code",
   "execution_count": 20,
   "metadata": {
    "collapsed": false
   },
   "outputs": [],
   "source": [
    "#data.head()"
   ]
  },
  {
   "cell_type": "markdown",
   "metadata": {},
   "source": [
    "## 增加特征"
   ]
  },
  {
   "cell_type": "markdown",
   "metadata": {},
   "source": [
    "增加 Normalization feature"
   ]
  },
  {
   "cell_type": "code",
   "execution_count": 54,
   "metadata": {
    "collapsed": false
   },
   "outputs": [],
   "source": [
    "name = [\"open\",\"high\",\"close\",\"low\",\"volume\"]\n",
    "# 增加 Normalization feature\n",
    "data = NF(data,1,name[0])\n",
    "data = NF(data,2,name[1])\n",
    "data = NF(data,3,name[3])\n",
    "data = NF(data,1,name[4])\n",
    "# 增加 Combination feature\n",
    "data = CF(data,5,[name[0],name[1],name[3],\"Price\"])\n",
    "data = CF(data,14,[name[0],name[4],name[4],\"Volume\"])\n",
    "# 增加 Maximazation & Minimization feature\n",
    "_,data = MaF(data,5,name[1])\n",
    "_,data = MaF(data,5,name[4])\n",
    "_,data = MiF(data,5,name[3]) \n",
    "_,data = MiF(data,5,name[4])\n",
    "# 增加 SP&500 Adj Close\n",
    "data = sp(data)\n",
    "# 增加 CCI\n",
    "data = CCI(data,10)\n",
    "# 增加 EMV\n",
    "data = EVM(data,5)\n",
    "# 增加 MA\n",
    "data = EWMA(data,5)\n",
    "# 增加 ROC\n",
    "data = ROC(data,12)\n",
    "# 增加 BBands\n",
    "data = BBANDS(data,20)\n",
    "# 增加 Force index\n",
    "data = ForceIndex(data,13)\n",
    "# 增加 TR & ATR\n",
    "data = TR(data,[name[1],name[3],name[2]])\n",
    "data = ATR(data,10)"
   ]
  },
  {
   "cell_type": "markdown",
   "metadata": {},
   "source": [
    " # **回归**"
   ]
  },
  {
   "cell_type": "markdown",
   "metadata": {},
   "source": [
    "## 处理数据"
   ]
  },
  {
   "cell_type": "code",
   "execution_count": 4,
   "metadata": {
    "collapsed": false
   },
   "outputs": [
    {
     "data": {
      "text/html": [
       "<div>\n",
       "<table border=\"1\" class=\"dataframe\">\n",
       "  <thead>\n",
       "    <tr style=\"text-align: right;\">\n",
       "      <th></th>\n",
       "      <th>open</th>\n",
       "      <th>high</th>\n",
       "      <th>close</th>\n",
       "      <th>low</th>\n",
       "      <th>volume</th>\n",
       "      <th>price_change</th>\n",
       "      <th>p_change</th>\n",
       "      <th>ma5</th>\n",
       "      <th>ma10</th>\n",
       "      <th>ma20</th>\n",
       "      <th>...</th>\n",
       "      <th>SP500</th>\n",
       "      <th>CCI</th>\n",
       "      <th>EVM</th>\n",
       "      <th>EWMA_5</th>\n",
       "      <th>Rate of Change</th>\n",
       "      <th>Upper BollingerBand</th>\n",
       "      <th>Lower BollingerBand</th>\n",
       "      <th>ForceIndex</th>\n",
       "      <th>TR</th>\n",
       "      <th>ATR</th>\n",
       "    </tr>\n",
       "  </thead>\n",
       "  <tbody>\n",
       "    <tr>\n",
       "      <th>2016-10-28</th>\n",
       "      <td>3347.143</td>\n",
       "      <td>3370.748</td>\n",
       "      <td>3340.126</td>\n",
       "      <td>3337.288</td>\n",
       "      <td>93133312.0</td>\n",
       "      <td>-5.569</td>\n",
       "      <td>-0.17</td>\n",
       "      <td>3355.130</td>\n",
       "      <td>3333.745</td>\n",
       "      <td>3301.799</td>\n",
       "      <td>...</td>\n",
       "      <td>212.539993</td>\n",
       "      <td>NaN</td>\n",
       "      <td>NaN</td>\n",
       "      <td>NaN</td>\n",
       "      <td>NaN</td>\n",
       "      <td>NaN</td>\n",
       "      <td>NaN</td>\n",
       "      <td>NaN</td>\n",
       "      <td>33.460</td>\n",
       "      <td>NaN</td>\n",
       "    </tr>\n",
       "    <tr>\n",
       "      <th>2016-10-27</th>\n",
       "      <td>3351.460</td>\n",
       "      <td>3352.354</td>\n",
       "      <td>3345.695</td>\n",
       "      <td>3335.133</td>\n",
       "      <td>77629848.0</td>\n",
       "      <td>-9.105</td>\n",
       "      <td>-0.27</td>\n",
       "      <td>3352.653</td>\n",
       "      <td>3330.317</td>\n",
       "      <td>3298.576</td>\n",
       "      <td>...</td>\n",
       "      <td>213.169998</td>\n",
       "      <td>NaN</td>\n",
       "      <td>NaN</td>\n",
       "      <td>NaN</td>\n",
       "      <td>NaN</td>\n",
       "      <td>NaN</td>\n",
       "      <td>NaN</td>\n",
       "      <td>NaN</td>\n",
       "      <td>17.221</td>\n",
       "      <td>NaN</td>\n",
       "    </tr>\n",
       "    <tr>\n",
       "      <th>2016-10-26</th>\n",
       "      <td>3365.197</td>\n",
       "      <td>3367.831</td>\n",
       "      <td>3354.800</td>\n",
       "      <td>3349.574</td>\n",
       "      <td>98024784.0</td>\n",
       "      <td>-12.654</td>\n",
       "      <td>-0.38</td>\n",
       "      <td>3347.235</td>\n",
       "      <td>3326.012</td>\n",
       "      <td>3295.847</td>\n",
       "      <td>...</td>\n",
       "      <td>213.740005</td>\n",
       "      <td>NaN</td>\n",
       "      <td>NaN</td>\n",
       "      <td>NaN</td>\n",
       "      <td>NaN</td>\n",
       "      <td>NaN</td>\n",
       "      <td>NaN</td>\n",
       "      <td>NaN</td>\n",
       "      <td>22.136</td>\n",
       "      <td>NaN</td>\n",
       "    </tr>\n",
       "    <tr>\n",
       "      <th>2016-10-25</th>\n",
       "      <td>3367.475</td>\n",
       "      <td>3373.913</td>\n",
       "      <td>3367.454</td>\n",
       "      <td>3356.585</td>\n",
       "      <td>111191696.0</td>\n",
       "      <td>-0.123</td>\n",
       "      <td>-0.00</td>\n",
       "      <td>3339.523</td>\n",
       "      <td>3320.533</td>\n",
       "      <td>3291.439</td>\n",
       "      <td>...</td>\n",
       "      <td>214.169998</td>\n",
       "      <td>NaN</td>\n",
       "      <td>NaN</td>\n",
       "      <td>3356.569323</td>\n",
       "      <td>NaN</td>\n",
       "      <td>NaN</td>\n",
       "      <td>NaN</td>\n",
       "      <td>NaN</td>\n",
       "      <td>19.113</td>\n",
       "      <td>NaN</td>\n",
       "    </tr>\n",
       "    <tr>\n",
       "      <th>2016-10-24</th>\n",
       "      <td>3332.512</td>\n",
       "      <td>3382.825</td>\n",
       "      <td>3367.577</td>\n",
       "      <td>3330.967</td>\n",
       "      <td>153014352.0</td>\n",
       "      <td>39.837</td>\n",
       "      <td>1.20</td>\n",
       "      <td>3330.299</td>\n",
       "      <td>3314.443</td>\n",
       "      <td>3285.936</td>\n",
       "      <td>...</td>\n",
       "      <td>214.889999</td>\n",
       "      <td>NaN</td>\n",
       "      <td>NaN</td>\n",
       "      <td>3360.795019</td>\n",
       "      <td>NaN</td>\n",
       "      <td>NaN</td>\n",
       "      <td>NaN</td>\n",
       "      <td>NaN</td>\n",
       "      <td>51.858</td>\n",
       "      <td>NaN</td>\n",
       "    </tr>\n",
       "  </tbody>\n",
       "</table>\n",
       "<p>5 rows × 33 columns</p>\n",
       "</div>"
      ],
      "text/plain": [
       "                open      high     close       low       volume  price_change  \\\n",
       "2016-10-28  3347.143  3370.748  3340.126  3337.288   93133312.0        -5.569   \n",
       "2016-10-27  3351.460  3352.354  3345.695  3335.133   77629848.0        -9.105   \n",
       "2016-10-26  3365.197  3367.831  3354.800  3349.574   98024784.0       -12.654   \n",
       "2016-10-25  3367.475  3373.913  3367.454  3356.585  111191696.0        -0.123   \n",
       "2016-10-24  3332.512  3382.825  3367.577  3330.967  153014352.0        39.837   \n",
       "\n",
       "            p_change       ma5      ma10      ma20 ...        SP500  CCI  EVM  \\\n",
       "2016-10-28     -0.17  3355.130  3333.745  3301.799 ...   212.539993  NaN  NaN   \n",
       "2016-10-27     -0.27  3352.653  3330.317  3298.576 ...   213.169998  NaN  NaN   \n",
       "2016-10-26     -0.38  3347.235  3326.012  3295.847 ...   213.740005  NaN  NaN   \n",
       "2016-10-25     -0.00  3339.523  3320.533  3291.439 ...   214.169998  NaN  NaN   \n",
       "2016-10-24      1.20  3330.299  3314.443  3285.936 ...   214.889999  NaN  NaN   \n",
       "\n",
       "                 EWMA_5  Rate of Change  Upper BollingerBand  \\\n",
       "2016-10-28          NaN             NaN                  NaN   \n",
       "2016-10-27          NaN             NaN                  NaN   \n",
       "2016-10-26          NaN             NaN                  NaN   \n",
       "2016-10-25  3356.569323             NaN                  NaN   \n",
       "2016-10-24  3360.795019             NaN                  NaN   \n",
       "\n",
       "            Lower BollingerBand  ForceIndex      TR  ATR  \n",
       "2016-10-28                  NaN         NaN  33.460  NaN  \n",
       "2016-10-27                  NaN         NaN  17.221  NaN  \n",
       "2016-10-26                  NaN         NaN  22.136  NaN  \n",
       "2016-10-25                  NaN         NaN  19.113  NaN  \n",
       "2016-10-24                  NaN         NaN  51.858  NaN  \n",
       "\n",
       "[5 rows x 33 columns]"
      ]
     },
     "execution_count": 4,
     "metadata": {},
     "output_type": "execute_result"
    }
   ],
   "source": [
    "data.head()"
   ]
  },
  {
   "cell_type": "code",
   "execution_count": 6,
   "metadata": {
    "collapsed": false
   },
   "outputs": [
    {
     "data": {
      "text/html": [
       "<div>\n",
       "<table border=\"1\" class=\"dataframe\">\n",
       "  <thead>\n",
       "    <tr style=\"text-align: right;\">\n",
       "      <th></th>\n",
       "      <th>open</th>\n",
       "      <th>high</th>\n",
       "      <th>close</th>\n",
       "      <th>low</th>\n",
       "      <th>volume</th>\n",
       "      <th>price_change</th>\n",
       "      <th>p_change</th>\n",
       "      <th>ma5</th>\n",
       "      <th>ma10</th>\n",
       "      <th>ma20</th>\n",
       "      <th>...</th>\n",
       "      <th>CCI</th>\n",
       "      <th>EVM</th>\n",
       "      <th>EWMA_5</th>\n",
       "      <th>Rate of Change</th>\n",
       "      <th>Upper BollingerBand</th>\n",
       "      <th>Lower BollingerBand</th>\n",
       "      <th>ForceIndex</th>\n",
       "      <th>TR</th>\n",
       "      <th>ATR</th>\n",
       "      <th>y</th>\n",
       "    </tr>\n",
       "  </thead>\n",
       "  <tbody>\n",
       "    <tr>\n",
       "      <th>2016-09-23</th>\n",
       "      <td>3292.278</td>\n",
       "      <td>3293.916</td>\n",
       "      <td>3275.666</td>\n",
       "      <td>3275.025</td>\n",
       "      <td>57993984.0</td>\n",
       "      <td>-15.455</td>\n",
       "      <td>-0.47</td>\n",
       "      <td>3270.790</td>\n",
       "      <td>3277.322</td>\n",
       "      <td>3297.783</td>\n",
       "      <td>...</td>\n",
       "      <td>34.455296</td>\n",
       "      <td>306.273060</td>\n",
       "      <td>3252.974518</td>\n",
       "      <td>-0.013749</td>\n",
       "      <td>3386.977957</td>\n",
       "      <td>3210.173143</td>\n",
       "      <td>-2.353048e+09</td>\n",
       "      <td>73.633</td>\n",
       "      <td>34.919656</td>\n",
       "      <td>3220.283</td>\n",
       "    </tr>\n",
       "    <tr>\n",
       "      <th>2016-09-22</th>\n",
       "      <td>3281.471</td>\n",
       "      <td>3303.199</td>\n",
       "      <td>3291.121</td>\n",
       "      <td>3277.979</td>\n",
       "      <td>75753544.0</td>\n",
       "      <td>24.485</td>\n",
       "      <td>0.75</td>\n",
       "      <td>3263.403</td>\n",
       "      <td>3283.838</td>\n",
       "      <td>3300.493</td>\n",
       "      <td>...</td>\n",
       "      <td>60.099170</td>\n",
       "      <td>377.685207</td>\n",
       "      <td>3265.691712</td>\n",
       "      <td>0.004040</td>\n",
       "      <td>3381.450088</td>\n",
       "      <td>3210.243612</td>\n",
       "      <td>-2.288590e+09</td>\n",
       "      <td>27.533</td>\n",
       "      <td>34.392038</td>\n",
       "      <td>3275.666</td>\n",
       "    </tr>\n",
       "    <tr>\n",
       "      <th>2016-09-21</th>\n",
       "      <td>3257.709</td>\n",
       "      <td>3270.902</td>\n",
       "      <td>3266.636</td>\n",
       "      <td>3254.321</td>\n",
       "      <td>59142980.0</td>\n",
       "      <td>9.233</td>\n",
       "      <td>0.28</td>\n",
       "      <td>3257.245</td>\n",
       "      <td>3288.988</td>\n",
       "      <td>3303.028</td>\n",
       "      <td>...</td>\n",
       "      <td>4.985567</td>\n",
       "      <td>294.036899</td>\n",
       "      <td>3266.006502</td>\n",
       "      <td>-0.011861</td>\n",
       "      <td>3373.255839</td>\n",
       "      <td>3209.621461</td>\n",
       "      <td>-6.648854e+08</td>\n",
       "      <td>36.800</td>\n",
       "      <td>34.564035</td>\n",
       "      <td>3291.121</td>\n",
       "    </tr>\n",
       "    <tr>\n",
       "      <th>2016-09-20</th>\n",
       "      <td>3264.664</td>\n",
       "      <td>3265.035</td>\n",
       "      <td>3257.403</td>\n",
       "      <td>3252.388</td>\n",
       "      <td>52784208.0</td>\n",
       "      <td>-5.721</td>\n",
       "      <td>-0.17</td>\n",
       "      <td>3256.439</td>\n",
       "      <td>3294.292</td>\n",
       "      <td>3306.536</td>\n",
       "      <td>...</td>\n",
       "      <td>2.084378</td>\n",
       "      <td>349.344911</td>\n",
       "      <td>3263.138498</td>\n",
       "      <td>-0.013699</td>\n",
       "      <td>3360.728837</td>\n",
       "      <td>3211.143363</td>\n",
       "      <td>-2.557131e+09</td>\n",
       "      <td>14.248</td>\n",
       "      <td>33.112890</td>\n",
       "      <td>3266.636</td>\n",
       "    </tr>\n",
       "    <tr>\n",
       "      <th>2016-09-19</th>\n",
       "      <td>3242.742</td>\n",
       "      <td>3264.899</td>\n",
       "      <td>3263.124</td>\n",
       "      <td>3242.742</td>\n",
       "      <td>58831080.0</td>\n",
       "      <td>24.395</td>\n",
       "      <td>0.75</td>\n",
       "      <td>3268.567</td>\n",
       "      <td>3299.963</td>\n",
       "      <td>3311.917</td>\n",
       "      <td>...</td>\n",
       "      <td>6.345143</td>\n",
       "      <td>92.083302</td>\n",
       "      <td>3263.133665</td>\n",
       "      <td>-0.011177</td>\n",
       "      <td>3345.408546</td>\n",
       "      <td>3216.018354</td>\n",
       "      <td>-2.325063e+09</td>\n",
       "      <td>22.157</td>\n",
       "      <td>32.330326</td>\n",
       "      <td>3257.403</td>\n",
       "    </tr>\n",
       "  </tbody>\n",
       "</table>\n",
       "<p>5 rows × 34 columns</p>\n",
       "</div>"
      ],
      "text/plain": [
       "                open      high     close       low      volume  price_change  \\\n",
       "2016-09-23  3292.278  3293.916  3275.666  3275.025  57993984.0       -15.455   \n",
       "2016-09-22  3281.471  3303.199  3291.121  3277.979  75753544.0        24.485   \n",
       "2016-09-21  3257.709  3270.902  3266.636  3254.321  59142980.0         9.233   \n",
       "2016-09-20  3264.664  3265.035  3257.403  3252.388  52784208.0        -5.721   \n",
       "2016-09-19  3242.742  3264.899  3263.124  3242.742  58831080.0        24.395   \n",
       "\n",
       "            p_change       ma5      ma10      ma20    ...           CCI  \\\n",
       "2016-09-23     -0.47  3270.790  3277.322  3297.783    ...     34.455296   \n",
       "2016-09-22      0.75  3263.403  3283.838  3300.493    ...     60.099170   \n",
       "2016-09-21      0.28  3257.245  3288.988  3303.028    ...      4.985567   \n",
       "2016-09-20     -0.17  3256.439  3294.292  3306.536    ...      2.084378   \n",
       "2016-09-19      0.75  3268.567  3299.963  3311.917    ...      6.345143   \n",
       "\n",
       "                   EVM       EWMA_5  Rate of Change  Upper BollingerBand  \\\n",
       "2016-09-23  306.273060  3252.974518       -0.013749          3386.977957   \n",
       "2016-09-22  377.685207  3265.691712        0.004040          3381.450088   \n",
       "2016-09-21  294.036899  3266.006502       -0.011861          3373.255839   \n",
       "2016-09-20  349.344911  3263.138498       -0.013699          3360.728837   \n",
       "2016-09-19   92.083302  3263.133665       -0.011177          3345.408546   \n",
       "\n",
       "            Lower BollingerBand    ForceIndex      TR        ATR         y  \n",
       "2016-09-23          3210.173143 -2.353048e+09  73.633  34.919656  3220.283  \n",
       "2016-09-22          3210.243612 -2.288590e+09  27.533  34.392038  3275.666  \n",
       "2016-09-21          3209.621461 -6.648854e+08  36.800  34.564035  3291.121  \n",
       "2016-09-20          3211.143363 -2.557131e+09  14.248  33.112890  3266.636  \n",
       "2016-09-19          3216.018354 -2.325063e+09  22.157  32.330326  3257.403  \n",
       "\n",
       "[5 rows x 34 columns]"
      ]
     },
     "execution_count": 6,
     "metadata": {},
     "output_type": "execute_result"
    }
   ],
   "source": [
    "data[\"y\"] = data[\"close\"].shift(1) # 需要估计的Y是第二天的股指的收盘价\n",
    "data = data.dropna() # 将含有nan的样本剔除 \n",
    "data.head()"
   ]
  },
  {
   "cell_type": "markdown",
   "metadata": {},
   "source": [
    "## 线性回归（lasso）"
   ]
  },
  {
   "cell_type": "code",
   "execution_count": 7,
   "metadata": {
    "collapsed": false
   },
   "outputs": [],
   "source": [
    "x_columns = data.columns[:-1]\n",
    "y_columns = data.columns[-1]\n",
    "\n",
    "# 将数据按7:2:1的比例分成训练集，测试集和检验集\n",
    "\n",
    "end_train = datetime.datetime(2016,6,17)\n",
    "\n",
    "X_train = data[data.index<=end_train][x_columns]\n",
    "y_train = data[data.index<=end_train][y_columns]\n",
    "\n",
    "X_test = data[data.index>end_train][x_columns]\n",
    "y_test = data[data.index>end_train][y_columns]\n"
   ]
  },
  {
   "cell_type": "code",
   "execution_count": 9,
   "metadata": {
    "collapsed": false
   },
   "outputs": [
    {
     "name": "stderr",
     "output_type": "stream",
     "text": [
      "D:\\Anaconda2\\lib\\site-packages\\ipykernel\\__main__.py:13: UserWarning: With alpha=0, this algorithm does not converge well. You are advised to use the LinearRegression estimator\n",
      "D:\\Anaconda2\\lib\\site-packages\\sklearn\\linear_model\\coordinate_descent.py:465: UserWarning: Coordinate descent with alpha=0 may lead to unexpected results and is discouraged.\n",
      "  positive)\n",
      "D:\\Anaconda2\\lib\\site-packages\\sklearn\\linear_model\\coordinate_descent.py:479: ConvergenceWarning: Objective did not converge. You might want to increase the number of iterations. Fitting data with very small alpha may cause precision problems.\n",
      "  ConvergenceWarning)\n"
     ]
    }
   ],
   "source": [
    "# 利用k-fold cross validation 选择lasso中的超参数\n",
    "tscv = TimeSeriesSplit(n_splits=5)\n",
    "alpha_list = [0,0.01,0.1,1,10]\n",
    "ini = []\n",
    "for alpha in alpha_list:\n",
    "    result = 0\n",
    "    for train, test in tscv.split(X_train):\n",
    "        regr = linear_model.Lasso(alpha)\n",
    "        x = X_train.ix[train]\n",
    "        y = y_train.ix[train]\n",
    "        x_ts = X_train.ix[test]\n",
    "        y_ts = y_train.ix[test]\n",
    "        regr.fit(x,y)\n",
    "        result += regr.score(x_ts,y_ts)\n",
    "    ini.append(result/5)\n",
    "alpha = alpha_list[np.argmax(ini)]\n",
    "print alpha"
   ]
  },
  {
   "cell_type": "code",
   "execution_count": 22,
   "metadata": {
    "collapsed": false
   },
   "outputs": [
    {
     "name": "stderr",
     "output_type": "stream",
     "text": [
      "D:\\Anaconda2\\lib\\site-packages\\ipykernel\\__main__.py:12: UserWarning: With alpha=0, this algorithm does not converge well. You are advised to use the LinearRegression estimator\n"
     ]
    }
   ],
   "source": [
    "# 再对超参数进行更仔细的选择\n",
    "alpha_list = np.linspace(0,0.05,20)\n",
    "ini = []\n",
    "for alpha in alpha_list:\n",
    "    result = 0\n",
    "    for train, test in tscv.split(X_train):\n",
    "        regr = linear_model.Lasso(alpha)\n",
    "        x = X_train.ix[train]\n",
    "        y = y_train.ix[train]\n",
    "        x_ts = X_train.ix[test]\n",
    "        y_ts = y_train.ix[test]\n",
    "        regr.fit(x,y)\n",
    "        result += regr.score(x_ts,y_ts)\n",
    "    ini.append(result/5)\n",
    "alpha = alpha_list[np.argmax(ini)]\n",
    "print alpha"
   ]
  },
  {
   "cell_type": "code",
   "execution_count": 24,
   "metadata": {
    "collapsed": true
   },
   "outputs": [],
   "source": [
    "# 用整个训练数据去训练模型，得到测试集上数据的预测值\n",
    "regr = linear_model.Lasso(alpha)\n",
    "regr.fit(X_train,y_train)\n",
    "y_predict = regr.predict(X_test)"
   ]
  },
  {
   "cell_type": "code",
   "execution_count": 36,
   "metadata": {
    "collapsed": false
   },
   "outputs": [
    {
     "data": {
      "text/plain": [
       "<matplotlib.legend.Legend at 0xd9e9da0>"
      ]
     },
     "execution_count": 36,
     "metadata": {},
     "output_type": "execute_result"
    },
    {
     "data": {
      "image/png": "[encoded data removed]",
      "text/plain": [
       "<matplotlib.figure.Figure at 0xd8961d0>"
      ]
     },
     "metadata": {},
     "output_type": "display_data"
    }
   ],
   "source": [
    "fig = plt.figure(figsize = (7,6))\n",
    "plt.plot(X_test.index,y_predict,\"r\",label = \"prediction\")\n",
    "plt.plot(X_test.index,y_test,\"b\",label = \"true value\")\n",
    "plt.legend()"
   ]
  },
  {
   "cell_type": "markdown",
   "metadata": {
    "collapsed": false
   },
   "source": [
    "# **分类**"
   ]
  },
  {
   "cell_type": "code",
   "execution_count": 113,
   "metadata": {
    "collapsed": true
   },
   "outputs": [],
   "source": [
    "from sklearn.ensemble import RandomForestClassifier\n",
    "from sklearn.model_selection import GridSearchCV\n",
    "from sklearn.metrics import confusion_matrix\n",
    "import itertools\n"
   ]
  },
  {
   "cell_type": "markdown",
   "metadata": {
    "collapsed": true
   },
   "source": [
    "## 处理数据"
   ]
  },
  {
   "cell_type": "code",
   "execution_count": 66,
   "metadata": {
    "collapsed": false
   },
   "outputs": [],
   "source": [
    "# 用前一天的数据来预测当前的涨跌情况\n",
    "# y = 1,代表涨\n",
    "# y = 0，代表跌\n",
    "data[\"y\"] = data[\"close\"].diff(-1)\n",
    "data = data.dropna()\n",
    "data[\"y\"][data[\"y\"]>0] = 1\n",
    "data[\"y\"][data[\"y\"]<=0] = 0"
   ]
  },
  {
   "cell_type": "code",
   "execution_count": 65,
   "metadata": {
    "collapsed": false
   },
   "outputs": [
    {
     "data": {
      "text/html": [
       "<div>\n",
       "<table border=\"1\" class=\"dataframe\">\n",
       "  <thead>\n",
       "    <tr style=\"text-align: right;\">\n",
       "      <th></th>\n",
       "      <th>open</th>\n",
       "      <th>high</th>\n",
       "      <th>close</th>\n",
       "      <th>low</th>\n",
       "      <th>volume</th>\n",
       "      <th>price_change</th>\n",
       "      <th>p_change</th>\n",
       "      <th>ma5</th>\n",
       "      <th>ma10</th>\n",
       "      <th>ma20</th>\n",
       "      <th>...</th>\n",
       "      <th>CCI</th>\n",
       "      <th>EVM</th>\n",
       "      <th>EWMA_5</th>\n",
       "      <th>Rate of Change</th>\n",
       "      <th>Upper BollingerBand</th>\n",
       "      <th>Lower BollingerBand</th>\n",
       "      <th>ForceIndex</th>\n",
       "      <th>TR</th>\n",
       "      <th>ATR</th>\n",
       "      <th>y</th>\n",
       "    </tr>\n",
       "  </thead>\n",
       "  <tbody>\n",
       "    <tr>\n",
       "      <th>2016-09-26</th>\n",
       "      <td>3267.690</td>\n",
       "      <td>3267.690</td>\n",
       "      <td>3220.283</td>\n",
       "      <td>3220.283</td>\n",
       "      <td>70452184.0</td>\n",
       "      <td>-55.383</td>\n",
       "      <td>-1.69</td>\n",
       "      <td>3262.222</td>\n",
       "      <td>3265.394</td>\n",
       "      <td>3293.349</td>\n",
       "      <td>...</td>\n",
       "      <td>-69.286385</td>\n",
       "      <td>-218.608248</td>\n",
       "      <td>3241.625364</td>\n",
       "      <td>-0.028935</td>\n",
       "      <td>3391.376531</td>\n",
       "      <td>3212.220569</td>\n",
       "      <td>-6.926929e+09</td>\n",
       "      <td>47.407</td>\n",
       "      <td>31.941707</td>\n",
       "      <td>0.0</td>\n",
       "    </tr>\n",
       "    <tr>\n",
       "      <th>2016-09-23</th>\n",
       "      <td>3292.278</td>\n",
       "      <td>3293.916</td>\n",
       "      <td>3275.666</td>\n",
       "      <td>3275.025</td>\n",
       "      <td>57993984.0</td>\n",
       "      <td>-15.455</td>\n",
       "      <td>-0.47</td>\n",
       "      <td>3270.790</td>\n",
       "      <td>3277.322</td>\n",
       "      <td>3297.783</td>\n",
       "      <td>...</td>\n",
       "      <td>34.455296</td>\n",
       "      <td>306.273060</td>\n",
       "      <td>3252.974518</td>\n",
       "      <td>-0.013749</td>\n",
       "      <td>3386.977957</td>\n",
       "      <td>3210.173143</td>\n",
       "      <td>-2.353048e+09</td>\n",
       "      <td>73.633</td>\n",
       "      <td>34.919656</td>\n",
       "      <td>0.0</td>\n",
       "    </tr>\n",
       "    <tr>\n",
       "      <th>2016-09-22</th>\n",
       "      <td>3281.471</td>\n",
       "      <td>3303.199</td>\n",
       "      <td>3291.121</td>\n",
       "      <td>3277.979</td>\n",
       "      <td>75753544.0</td>\n",
       "      <td>24.485</td>\n",
       "      <td>0.75</td>\n",
       "      <td>3263.403</td>\n",
       "      <td>3283.838</td>\n",
       "      <td>3300.493</td>\n",
       "      <td>...</td>\n",
       "      <td>60.099170</td>\n",
       "      <td>377.685207</td>\n",
       "      <td>3265.691712</td>\n",
       "      <td>0.004040</td>\n",
       "      <td>3381.450088</td>\n",
       "      <td>3210.243612</td>\n",
       "      <td>-2.288590e+09</td>\n",
       "      <td>27.533</td>\n",
       "      <td>34.392038</td>\n",
       "      <td>1.0</td>\n",
       "    </tr>\n",
       "    <tr>\n",
       "      <th>2016-09-21</th>\n",
       "      <td>3257.709</td>\n",
       "      <td>3270.902</td>\n",
       "      <td>3266.636</td>\n",
       "      <td>3254.321</td>\n",
       "      <td>59142980.0</td>\n",
       "      <td>9.233</td>\n",
       "      <td>0.28</td>\n",
       "      <td>3257.245</td>\n",
       "      <td>3288.988</td>\n",
       "      <td>3303.028</td>\n",
       "      <td>...</td>\n",
       "      <td>4.985567</td>\n",
       "      <td>294.036899</td>\n",
       "      <td>3266.006502</td>\n",
       "      <td>-0.011861</td>\n",
       "      <td>3373.255839</td>\n",
       "      <td>3209.621461</td>\n",
       "      <td>-6.648854e+08</td>\n",
       "      <td>36.800</td>\n",
       "      <td>34.564035</td>\n",
       "      <td>1.0</td>\n",
       "    </tr>\n",
       "    <tr>\n",
       "      <th>2016-09-20</th>\n",
       "      <td>3264.664</td>\n",
       "      <td>3265.035</td>\n",
       "      <td>3257.403</td>\n",
       "      <td>3252.388</td>\n",
       "      <td>52784208.0</td>\n",
       "      <td>-5.721</td>\n",
       "      <td>-0.17</td>\n",
       "      <td>3256.439</td>\n",
       "      <td>3294.292</td>\n",
       "      <td>3306.536</td>\n",
       "      <td>...</td>\n",
       "      <td>2.084378</td>\n",
       "      <td>349.344911</td>\n",
       "      <td>3263.138498</td>\n",
       "      <td>-0.013699</td>\n",
       "      <td>3360.728837</td>\n",
       "      <td>3211.143363</td>\n",
       "      <td>-2.557131e+09</td>\n",
       "      <td>14.248</td>\n",
       "      <td>33.112890</td>\n",
       "      <td>0.0</td>\n",
       "    </tr>\n",
       "  </tbody>\n",
       "</table>\n",
       "<p>5 rows × 34 columns</p>\n",
       "</div>"
      ],
      "text/plain": [
       "                open      high     close       low      volume  price_change  \\\n",
       "2016-09-26  3267.690  3267.690  3220.283  3220.283  70452184.0       -55.383   \n",
       "2016-09-23  3292.278  3293.916  3275.666  3275.025  57993984.0       -15.455   \n",
       "2016-09-22  3281.471  3303.199  3291.121  3277.979  75753544.0        24.485   \n",
       "2016-09-21  3257.709  3270.902  3266.636  3254.321  59142980.0         9.233   \n",
       "2016-09-20  3264.664  3265.035  3257.403  3252.388  52784208.0        -5.721   \n",
       "\n",
       "            p_change       ma5      ma10      ma20 ...         CCI  \\\n",
       "2016-09-26     -1.69  3262.222  3265.394  3293.349 ...  -69.286385   \n",
       "2016-09-23     -0.47  3270.790  3277.322  3297.783 ...   34.455296   \n",
       "2016-09-22      0.75  3263.403  3283.838  3300.493 ...   60.099170   \n",
       "2016-09-21      0.28  3257.245  3288.988  3303.028 ...    4.985567   \n",
       "2016-09-20     -0.17  3256.439  3294.292  3306.536 ...    2.084378   \n",
       "\n",
       "                   EVM       EWMA_5  Rate of Change  Upper BollingerBand  \\\n",
       "2016-09-26 -218.608248  3241.625364       -0.028935          3391.376531   \n",
       "2016-09-23  306.273060  3252.974518       -0.013749          3386.977957   \n",
       "2016-09-22  377.685207  3265.691712        0.004040          3381.450088   \n",
       "2016-09-21  294.036899  3266.006502       -0.011861          3373.255839   \n",
       "2016-09-20  349.344911  3263.138498       -0.013699          3360.728837   \n",
       "\n",
       "            Lower BollingerBand    ForceIndex      TR        ATR    y  \n",
       "2016-09-26          3212.220569 -6.926929e+09  47.407  31.941707  0.0  \n",
       "2016-09-23          3210.173143 -2.353048e+09  73.633  34.919656  0.0  \n",
       "2016-09-22          3210.243612 -2.288590e+09  27.533  34.392038  1.0  \n",
       "2016-09-21          3209.621461 -6.648854e+08  36.800  34.564035  1.0  \n",
       "2016-09-20          3211.143363 -2.557131e+09  14.248  33.112890  0.0  \n",
       "\n",
       "[5 rows x 34 columns]"
      ]
     },
     "execution_count": 65,
     "metadata": {},
     "output_type": "execute_result"
    }
   ],
   "source": [
    "data.head()"
   ]
  },
  {
   "cell_type": "markdown",
   "metadata": {},
   "source": [
    "## Random Forest"
   ]
  },
  {
   "cell_type": "code",
   "execution_count": 81,
   "metadata": {
    "collapsed": false
   },
   "outputs": [
    {
     "name": "stdout",
     "output_type": "stream",
     "text": [
      "Best parameters set found on development set:\n",
      "{'max_features': 9, 'n_estimators': 15, 'max_depth': 2}\n",
      "Grid scores on development set:\n"
     ]
    }
   ],
   "source": [
    "x_columns = data.columns[:-1]\n",
    "y_columns = data.columns[-1]\n",
    "\n",
    "# 将数据按7:2:1的比例分成训练集，测试集和检验集\n",
    "\n",
    "end_train = datetime.datetime(2016,6,17)\n",
    "\n",
    "X_train = data[data.index<=end_train][x_columns]\n",
    "y_train = data[data.index<=end_train][y_columns]\n",
    "\n",
    "X_test = data[data.index>end_train][x_columns]\n",
    "y_test = data[data.index>end_train][y_columns]\n",
    "\n",
    "# 用cv选择参数\n",
    "tuned_parameters = [{'n_estimators': range(1,100,14), 'max_features': range(1,10,4),\n",
    "                     'max_depth': range(1,5,1)}]\n",
    "\n",
    "clf = GridSearchCV(RandomForestClassifier(), tuned_parameters, cv=5,\n",
    "                       scoring = \"precision\")\n",
    "clf.fit(X_train, y_train)\n",
    "print \"Best parameters set found on development set:\"\n",
    "print clf.best_params_\n"
   ]
  },
  {
   "cell_type": "code",
   "execution_count": 108,
   "metadata": {
    "collapsed": false
   },
   "outputs": [
    {
     "data": {
      "image/png": "[encoded data removed]",
      "text/plain": [
       "<matplotlib.figure.Figure at 0xe55d080>"
      ]
     },
     "metadata": {},
     "output_type": "display_data"
    }
   ],
   "source": [
    "# 用全部训练数据去拟合模型，并画出Feature Importance\n",
    "forest = RandomForestClassifier(max_features=9,n_estimators=15,max_depth=2)\n",
    "forest.fit(X_train,y_train)\n",
    "importances = forest.feature_importances_\n",
    "importances = importances/max(importances)*100 # 将最重要的Feature的重要性设为100\n",
    "indices = np.argsort(importances)[::-1]\n",
    "indices = indices[:6]  # 取Feature Importance 最大的前六个\n",
    "plt.figure(figsize = (7,6))\n",
    "plt.title(\"Feature importances\")\n",
    "plt.bar(range(len(indices)), importances[indices],\n",
    "       color=\"r\",align=\"center\")\n",
    "plt.xticks(range(len(indices)), data.columns[indices])\n",
    "plt.xlim([-1, len(indices)])\n",
    "plt.show()"
   ]
  },
  {
   "cell_type": "code",
   "execution_count": 112,
   "metadata": {
    "collapsed": false
   },
   "outputs": [
    {
     "name": "stdout",
     "output_type": "stream",
     "text": [
      "Confusion matrix, without normalization\n",
      "[[33  0]\n",
      " [ 0 34]]\n",
      "Normalized confusion matrix\n",
      "[[ 1.  0.]\n",
      " [ 0.  1.]]\n"
     ]
    },
    {
     "data": {
      "image/png": "[encoded data removed]",
      "text/plain": [
       "<matplotlib.figure.Figure at 0xed25208>"
      ]
     },
     "metadata": {},
     "output_type": "display_data"
    },
    {
     "data": {
      "image/png": "[encoded data removed]",
      "text/plain": [
       "<matplotlib.figure.Figure at 0xed1d358>"
      ]
     },
     "metadata": {},
     "output_type": "display_data"
    }
   ],
   "source": [
    "# Confusion Matrix\n",
    "y_pred = clf.predict(X_test)\n",
    "\n",
    "def plot_confusion_matrix(cm, classes,\n",
    "                          normalize=False,\n",
    "                          title='Confusion matrix',\n",
    "                          cmap=plt.cm.Blues):\n",
    "    \"\"\"\n",
    "    This function prints and plots the confusion matrix.\n",
    "    Normalization can be applied by setting `normalize=True`.\n",
    "    \"\"\"\n",
    "    plt.imshow(cm, interpolation='nearest', cmap=cmap)\n",
    "    plt.title(title)\n",
    "    plt.colorbar()\n",
    "    tick_marks = np.arange(len(classes))\n",
    "    plt.xticks(tick_marks, classes, rotation=45)\n",
    "    plt.yticks(tick_marks, classes)\n",
    "\n",
    "    if normalize:\n",
    "        cm = cm.astype('float') / cm.sum(axis=1)[:, np.newaxis]\n",
    "        print(\"Normalized confusion matrix\")\n",
    "    else:\n",
    "        print('Confusion matrix, without normalization')\n",
    "\n",
    "    print(cm)\n",
    "\n",
    "    thresh = cm.max() / 2.\n",
    "    for i, j in itertools.product(range(cm.shape[0]), range(cm.shape[1])):\n",
    "        plt.text(j, i, cm[i, j],\n",
    "                 horizontalalignment=\"center\",\n",
    "                 color=\"white\" if cm[i, j] > thresh else \"black\")\n",
    "\n",
    "    plt.tight_layout()\n",
    "    plt.ylabel('True label')\n",
    "    plt.xlabel('Predicted label')\n",
    "\n",
    "# Compute confusion matrix\n",
    "cnf_matrix = confusion_matrix(y_test, y_pred)\n",
    "np.set_printoptions(precision=2)\n",
    "\n",
    "class_names = [\"up\",\"down\"]\n",
    "# Plot non-normalized confusion matrix\n",
    "plt.figure()\n",
    "plot_confusion_matrix(cnf_matrix, classes=class_names,\n",
    "                      title='Confusion matrix, without normalization')\n",
    "\n",
    "# Plot normalized confusion matrix\n",
    "plt.figure()\n",
    "plot_confusion_matrix(cnf_matrix, classes=class_names, normalize=True,\n",
    "                      title='Normalized confusion matrix')\n",
    "\n",
    "plt.show()\n"
   ]
  }
 ],
 "metadata": {
  "kernelspec": {
   "display_name": "Python 2",
   "language": "python",
   "name": "python2"
  },
  "language_info": {
   "codemirror_mode": {
    "name": "ipython",
    "version": 2
   },
   "file_extension": ".py",
   "mimetype": "text/x-python",
   "name": "python",
   "nbconvert_exporter": "python",
   "pygments_lexer": "ipython2",
   "version": "2.7.11"
  }
 },
 "nbformat": 4,
 "nbformat_minor": 0
}
