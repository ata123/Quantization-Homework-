{
 "cells": [
  {
   "cell_type": "code",
   "execution_count": 2,
   "metadata": {
    "collapsed": true
   },
   "outputs": [],
   "source": [
    "import MySQLdb\n",
    "import numpy as np\n",
    "import tushare as ts\n",
    "import sklearn\n",
    "import pandas as pd"
   ]
  },
  {
   "cell_type": "code",
   "execution_count": 5,
   "metadata": {
    "collapsed": false
   },
   "outputs": [],
   "source": [
    "# 连接mysql,将之前存进去的数据读出来\n",
    "conn = MySQLdb.connect(host=\"localhost\",user=\"root\",passwd=\"920205\",db=\"securities_master\",charset=\"utf8\")\n",
    "cur = conn.cursor()\n",
    "sql = \"select code from symbol\"\n",
    "index = pd.read_sql(sql,conn)"
   ]
  },
  {
   "cell_type": "code",
   "execution_count": 91,
   "metadata": {
    "collapsed": false
   },
   "outputs": [],
   "source": [
    "# 按收盘价均价删选股票\n",
    "price_left = []\n",
    "volume = {}\n",
    "for item in index[\"code\"]:\n",
    "    sql = \"select avg(close),avg(volume) from price_\"+item\n",
    "    result = pd.read_sql(sql,conn)\n",
    "    volume[item] = result[\"avg(volume)\"][0]\n",
    "    if 10 <= result[\"avg(close)\"][0] <= 50:\n",
    "        price_left.append(item)"
   ]
  },
  {
   "cell_type": "code",
   "execution_count": 92,
   "metadata": {
    "collapsed": false
   },
   "outputs": [],
   "source": [
    "# 按成交量删选股票\n",
    "volume = sorted(volume.iteritems(),key = lambda x:x[1])\n",
    "volume_left = volume[30:60]"
   ]
  },
  {
   "cell_type": "code",
   "execution_count": 95,
   "metadata": {
    "collapsed": false
   },
   "outputs": [
    {
     "name": "stdout",
     "output_type": "stream",
     "text": [
      "26\n"
     ]
    }
   ],
   "source": [
    "# 将同时满足条件的股票代码删选出来\n",
    "left = []\n",
    "for item in volume_left:\n",
    "    if str(item[0]) in price_left:\n",
    "        left.append(item[0])\n",
    "print len(left) # 最后剩余26支股"
   ]
  },
  {
   "cell_type": "markdown",
   "metadata": {
    "collapsed": true
   },
   "source": [
    "剩下的步骤和homework 1一样，重复做26支股。"
   ]
  },
  {
   "cell_type": "code",
   "execution_count": null,
   "metadata": {
    "collapsed": true
   },
   "outputs": [],
   "source": []
  }
 ],
 "metadata": {
  "kernelspec": {
   "display_name": "Python 2",
   "language": "python",
   "name": "python2"
  },
  "language_info": {
   "codemirror_mode": {
    "name": "ipython",
    "version": 2
   },
   "file_extension": ".py",
   "mimetype": "text/x-python",
   "name": "python",
   "nbconvert_exporter": "python",
   "pygments_lexer": "ipython2",
   "version": "2.7.11"
  }
 },
 "nbformat": 4,
 "nbformat_minor": 0
}
