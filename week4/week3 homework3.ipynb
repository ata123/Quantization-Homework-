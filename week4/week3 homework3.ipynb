{
 "cells": [
  {
   "cell_type": "markdown",
   "metadata": {},
   "source": [
    "## 给定数据集下的股价预测"
   ]
  },
  {
   "cell_type": "code",
   "execution_count": 1,
   "metadata": {
    "collapsed": false
   },
   "outputs": [],
   "source": [
    "from __future__ import division\n",
    "%matplotlib inline\n",
    "import pandas as pd\n",
    "import numpy as np\n",
    "import matplotlib.pyplot as plt\n",
    "import seaborn as sns\n",
    "from sklearn.decomposition import PCA\n",
    "from sklearn import neighbors"
   ]
  },
  {
   "cell_type": "markdown",
   "metadata": {},
   "source": [
    "### 读入数据"
   ]
  },
  {
   "cell_type": "markdown",
   "metadata": {},
   "source": [
    "大概了解数据构成"
   ]
  },
  {
   "cell_type": "code",
   "execution_count": 2,
   "metadata": {
    "collapsed": false
   },
   "outputs": [
    {
     "data": {
      "text/html": [
       "<div>\n",
       "<table border=\"1\" class=\"dataframe\">\n",
       "  <thead>\n",
       "    <tr style=\"text-align: right;\">\n",
       "      <th></th>\n",
       "      <th>Unnamed: 0</th>\n",
       "      <th>X1</th>\n",
       "      <th>X2</th>\n",
       "      <th>X3</th>\n",
       "      <th>X4</th>\n",
       "      <th>X5</th>\n",
       "      <th>X6</th>\n",
       "      <th>X7</th>\n",
       "      <th>X8</th>\n",
       "      <th>X9</th>\n",
       "      <th>...</th>\n",
       "      <th>X325</th>\n",
       "      <th>X326</th>\n",
       "      <th>X327</th>\n",
       "      <th>X328</th>\n",
       "      <th>X329</th>\n",
       "      <th>X330</th>\n",
       "      <th>X331</th>\n",
       "      <th>X332</th>\n",
       "      <th>realY</th>\n",
       "      <th>predictY</th>\n",
       "    </tr>\n",
       "  </thead>\n",
       "  <tbody>\n",
       "    <tr>\n",
       "      <th>0</th>\n",
       "      <td>0</td>\n",
       "      <td>-0.0</td>\n",
       "      <td>-0.0</td>\n",
       "      <td>-0.0</td>\n",
       "      <td>-0.000000</td>\n",
       "      <td>-0.000000</td>\n",
       "      <td>-0.0</td>\n",
       "      <td>-0.000000</td>\n",
       "      <td>-0.0</td>\n",
       "      <td>4.506952</td>\n",
       "      <td>...</td>\n",
       "      <td>4.139076</td>\n",
       "      <td>3.443876</td>\n",
       "      <td>6.085272</td>\n",
       "      <td>4.589867</td>\n",
       "      <td>-2.979077</td>\n",
       "      <td>-6.393372</td>\n",
       "      <td>-4.417067</td>\n",
       "      <td>-4.611922</td>\n",
       "      <td>-0.000000</td>\n",
       "      <td>0.0</td>\n",
       "    </tr>\n",
       "    <tr>\n",
       "      <th>1</th>\n",
       "      <td>1</td>\n",
       "      <td>-0.0</td>\n",
       "      <td>-0.0</td>\n",
       "      <td>-0.0</td>\n",
       "      <td>0.551516</td>\n",
       "      <td>1.103168</td>\n",
       "      <td>-0.0</td>\n",
       "      <td>-0.949546</td>\n",
       "      <td>-0.0</td>\n",
       "      <td>-0.000000</td>\n",
       "      <td>...</td>\n",
       "      <td>4.151743</td>\n",
       "      <td>4.566135</td>\n",
       "      <td>6.904618</td>\n",
       "      <td>3.911805</td>\n",
       "      <td>-4.863125</td>\n",
       "      <td>-9.709144</td>\n",
       "      <td>-3.535746</td>\n",
       "      <td>-3.946805</td>\n",
       "      <td>1.199756</td>\n",
       "      <td>0.0</td>\n",
       "    </tr>\n",
       "    <tr>\n",
       "      <th>2</th>\n",
       "      <td>2</td>\n",
       "      <td>-0.0</td>\n",
       "      <td>-0.0</td>\n",
       "      <td>-0.0</td>\n",
       "      <td>0.874133</td>\n",
       "      <td>0.753029</td>\n",
       "      <td>-0.0</td>\n",
       "      <td>-0.000000</td>\n",
       "      <td>-0.0</td>\n",
       "      <td>-0.000000</td>\n",
       "      <td>...</td>\n",
       "      <td>4.139076</td>\n",
       "      <td>4.062686</td>\n",
       "      <td>8.037572</td>\n",
       "      <td>4.589867</td>\n",
       "      <td>-3.737310</td>\n",
       "      <td>-7.461474</td>\n",
       "      <td>-4.846605</td>\n",
       "      <td>-5.060409</td>\n",
       "      <td>-0.516707</td>\n",
       "      <td>0.0</td>\n",
       "    </tr>\n",
       "    <tr>\n",
       "      <th>3</th>\n",
       "      <td>3</td>\n",
       "      <td>-0.0</td>\n",
       "      <td>-0.0</td>\n",
       "      <td>-0.0</td>\n",
       "      <td>-0.874133</td>\n",
       "      <td>0.475108</td>\n",
       "      <td>-0.0</td>\n",
       "      <td>-0.000000</td>\n",
       "      <td>-0.0</td>\n",
       "      <td>-0.000000</td>\n",
       "      <td>...</td>\n",
       "      <td>4.139076</td>\n",
       "      <td>4.031714</td>\n",
       "      <td>7.738847</td>\n",
       "      <td>4.589867</td>\n",
       "      <td>-3.202318</td>\n",
       "      <td>-8.799307</td>\n",
       "      <td>-3.505467</td>\n",
       "      <td>-4.390713</td>\n",
       "      <td>-0.000000</td>\n",
       "      <td>0.0</td>\n",
       "    </tr>\n",
       "    <tr>\n",
       "      <th>4</th>\n",
       "      <td>4</td>\n",
       "      <td>-0.0</td>\n",
       "      <td>-0.0</td>\n",
       "      <td>-0.0</td>\n",
       "      <td>-0.874133</td>\n",
       "      <td>1.333798</td>\n",
       "      <td>-0.0</td>\n",
       "      <td>-0.000000</td>\n",
       "      <td>-0.0</td>\n",
       "      <td>-0.000000</td>\n",
       "      <td>...</td>\n",
       "      <td>4.151743</td>\n",
       "      <td>3.638764</td>\n",
       "      <td>6.904618</td>\n",
       "      <td>3.911805</td>\n",
       "      <td>-4.063161</td>\n",
       "      <td>-9.709144</td>\n",
       "      <td>-4.418497</td>\n",
       "      <td>-4.613416</td>\n",
       "      <td>1.033414</td>\n",
       "      <td>0.0</td>\n",
       "    </tr>\n",
       "  </tbody>\n",
       "</table>\n",
       "<p>5 rows × 335 columns</p>\n",
       "</div>"
      ],
      "text/plain": [
       "   Unnamed: 0   X1   X2   X3        X4        X5   X6        X7   X8  \\\n",
       "0           0 -0.0 -0.0 -0.0 -0.000000 -0.000000 -0.0 -0.000000 -0.0   \n",
       "1           1 -0.0 -0.0 -0.0  0.551516  1.103168 -0.0 -0.949546 -0.0   \n",
       "2           2 -0.0 -0.0 -0.0  0.874133  0.753029 -0.0 -0.000000 -0.0   \n",
       "3           3 -0.0 -0.0 -0.0 -0.874133  0.475108 -0.0 -0.000000 -0.0   \n",
       "4           4 -0.0 -0.0 -0.0 -0.874133  1.333798 -0.0 -0.000000 -0.0   \n",
       "\n",
       "         X9    ...         X325      X326      X327      X328      X329  \\\n",
       "0  4.506952    ...     4.139076  3.443876  6.085272  4.589867 -2.979077   \n",
       "1 -0.000000    ...     4.151743  4.566135  6.904618  3.911805 -4.863125   \n",
       "2 -0.000000    ...     4.139076  4.062686  8.037572  4.589867 -3.737310   \n",
       "3 -0.000000    ...     4.139076  4.031714  7.738847  4.589867 -3.202318   \n",
       "4 -0.000000    ...     4.151743  3.638764  6.904618  3.911805 -4.063161   \n",
       "\n",
       "       X330      X331      X332     realY  predictY  \n",
       "0 -6.393372 -4.417067 -4.611922 -0.000000       0.0  \n",
       "1 -9.709144 -3.535746 -3.946805  1.199756       0.0  \n",
       "2 -7.461474 -4.846605 -5.060409 -0.516707       0.0  \n",
       "3 -8.799307 -3.505467 -4.390713 -0.000000       0.0  \n",
       "4 -9.709144 -4.418497 -4.613416  1.033414       0.0  \n",
       "\n",
       "[5 rows x 335 columns]"
      ]
     },
     "execution_count": 2,
     "metadata": {},
     "output_type": "execute_result"
    }
   ],
   "source": [
    "data = pd.read_csv(\"HFT_XY_unselected.csv\")\n",
    "data.head()"
   ]
  },
  {
   "cell_type": "markdown",
   "metadata": {},
   "source": [
    "### 画出响应变量y的分布"
   ]
  },
  {
   "cell_type": "code",
   "execution_count": 3,
   "metadata": {
    "collapsed": false
   },
   "outputs": [
    {
     "data": {
      "text/plain": [
       "<matplotlib.axes._subplots.AxesSubplot at 0xa8c9b00>"
      ]
     },
     "execution_count": 3,
     "metadata": {},
     "output_type": "execute_result"
    },
    {
     "data": {
      "image/png": "[encoded data removed]",
      "text/plain": [
       "<matplotlib.figure.Figure at 0xa889c50>"
      ]
     },
     "metadata": {},
     "output_type": "display_data"
    }
   ],
   "source": [
    "sns.distplot(data[\"realY\"],bins =10,kde=False)"
   ]
  },
  {
   "cell_type": "markdown",
   "metadata": {},
   "source": [
    "数据量充分，可以将数据分为训练集,CV集，测试集 7:2:1"
   ]
  },
  {
   "cell_type": "code",
   "execution_count": 3,
   "metadata": {
    "collapsed": false
   },
   "outputs": [],
   "source": [
    "x = data[data.columns[1:-2]]\n",
    "y = data[data.columns[-2]]\n",
    "x_train = x[:168722]\n",
    "y_train = y[:168722]\n",
    "\n",
    "x_cv = x[167822:216028]\n",
    "y_cv = y[167822:216028]\n",
    "\n",
    "X_train = x[:216028]\n",
    "Y_train = y[:216028]\n",
    "\n",
    "x_test = x[216028:]\n",
    "y_test = y[216028:]"
   ]
  },
  {
   "cell_type": "markdown",
   "metadata": {},
   "source": [
    "### 数据降维"
   ]
  },
  {
   "cell_type": "code",
   "execution_count": 5,
   "metadata": {
    "collapsed": false
   },
   "outputs": [
    {
     "name": "stdout",
     "output_type": "stream",
     "text": [
      "n_components is 10\n",
      "total explain variance ratio is 0.509762710039\n",
      "n_components is 20\n",
      "total explain variance ratio is 0.694931599358\n",
      "n_components is 30\n",
      "total explain variance ratio is 0.796574223926\n",
      "n_components is 40\n",
      "total explain variance ratio is 0.85734969391\n",
      "n_components is 50\n",
      "total explain variance ratio is 0.895858907766\n"
     ]
    }
   ],
   "source": [
    "components = [10,20,30,40,50]\n",
    "for num in components:\n",
    "    print \"n_components is \" + str(num)\n",
    "    explain_variance = 0\n",
    "    pca = PCA(n_components = num)\n",
    "    x_train_1 = pca.fit_transform(x_train)\n",
    "    explain_variance = sum(pca.explained_variance_ratio_)\n",
    "    print \"total explain variance ratio is \"+ str(explain_variance)\n",
    "        "
   ]
  },
  {
   "cell_type": "markdown",
   "metadata": {},
   "source": [
    "从上面输出结果可以看出当将训练数据降至50维时，可被解释的方差达到原方差的近90%，所以我们选择将数据降至50维。"
   ]
  },
  {
   "cell_type": "code",
   "execution_count": 4,
   "metadata": {
    "collapsed": false
   },
   "outputs": [],
   "source": [
    "pca = PCA(n_components = 50)\n",
    "x_train = pca.fit_transform(x_train)\n",
    "X_train = pca.transform(X_train)\n",
    "x_cv = pca.transform(x_cv)\n",
    "x_test = pca.transform(x_test)"
   ]
  },
  {
   "cell_type": "markdown",
   "metadata": {},
   "source": [
    "tsne电脑跑不起来，所以就没有用"
   ]
  },
  {
   "cell_type": "markdown",
   "metadata": {},
   "source": [
    "# 数据拟合"
   ]
  },
  {
   "cell_type": "markdown",
   "metadata": {},
   "source": [
    "## KNN"
   ]
  },
  {
   "cell_type": "code",
   "execution_count": 11,
   "metadata": {
    "collapsed": false
   },
   "outputs": [
    {
     "name": "stdout",
     "output_type": "stream",
     "text": [
      "The numbers of neighbors are 200\n",
      "Scores are 0.0350515465345\n",
      "The numbers of neighbors are 250\n",
      "Scores are 0.0350290941555\n",
      "The numbers of neighbors are 300\n",
      "Scores are 0.0353346963466\n",
      "The numbers of neighbors are 350\n",
      "Scores are 0.0356945950601\n",
      "The numbers of neighbors are 400\n",
      "Scores are 0.0359832484937\n",
      "The numbers of neighbors are 450\n",
      "Scores are 0.0361659456919\n",
      "The numbers of neighbors are 500\n",
      "Scores are 0.0363699521198\n"
     ]
    }
   ],
   "source": [
    "# 通过CV集挑出neighbor的个数\n",
    "neighbors_list = range(200,550,50)\n",
    "result = 0\n",
    "n_list = []\n",
    "for n in neighbors_list:\n",
    "    print \"The numbers of neighbors are \" + str(n)\n",
    "    knn = neighbors.KNeighborsRegressor(n_neighbors = n)\n",
    "    knn.fit(x_train,y_train)\n",
    "    scoring = knn.score(x_cv,y_cv)\n",
    "    print \"Scores are \" + str(scoring)\n",
    "    y_pre = knn.predict(x_cv)\n",
    "    if scoring > result:\n",
    "        result = scoring\n",
    "        n_list.append(n)\n"
   ]
  },
  {
   "cell_type": "markdown",
   "metadata": {},
   "source": [
    "跑出来效果不是很好，将neighbor的个数提升再看看效果"
   ]
  },
  {
   "cell_type": "code",
   "execution_count": 13,
   "metadata": {
    "collapsed": false
   },
   "outputs": [
    {
     "name": "stdout",
     "output_type": "stream",
     "text": [
      "The numbers of neighbors are 600\n",
      "Scores are 0.0364656920693\n",
      "The numbers of neighbors are 800\n",
      "Scores are 0.0365776920053\n",
      "The numbers of neighbors are 1000\n",
      "Scores are 0.036339532912\n",
      "The numbers of neighbors are 1200\n",
      "Scores are 0.0359596368326\n",
      "The numbers of neighbors are 1400\n",
      "Scores are 0.035870665422\n",
      "The numbers of neighbors are 1600\n",
      "Scores are 0.0357021283032\n",
      "The numbers of neighbors are 1800\n",
      "Scores are 0.0354952667126\n"
     ]
    }
   ],
   "source": [
    "neighbors_list = range(600,2000,200)\n",
    "result = 0\n",
    "n_list = []\n",
    "for n in neighbors_list:\n",
    "    print \"The numbers of neighbors are \" + str(n)\n",
    "    knn = neighbors.KNeighborsRegressor(n_neighbors = n)\n",
    "    knn.fit(x_train,y_train)\n",
    "    scoring = knn.score(x_cv,y_cv)\n",
    "    print \"Scores are \" + str(scoring)\n",
    "    y_pre = knn.predict(x_cv)\n",
    "    if scoring > result:\n",
    "        result = scoring\n",
    "        n_list.append(n)"
   ]
  },
  {
   "cell_type": "markdown",
   "metadata": {},
   "source": [
    "可以看出当 the number of neighbors 从1000往后，Scores反而下降。所以我们选择the number of neighbors为800，用训练集和CV集数据合起来训练模型，将其在test集上的score作为基准值。"
   ]
  },
  {
   "cell_type": "code",
   "execution_count": 6,
   "metadata": {
    "collapsed": false
   },
   "outputs": [
    {
     "name": "stdout",
     "output_type": "stream",
     "text": [
      "0.044611046151\n"
     ]
    }
   ],
   "source": [
    "best_n = 800\n",
    "knn = neighbors.KNeighborsRegressor(n_neighbors = best_n)\n",
    "# 用训练集+CV集的数据来拟合模型\n",
    "knn.fit(X_train,Y_train)\n",
    "benchmark = knn.score(x_test,y_test)\n",
    "print benchmark"
   ]
  },
  {
   "cell_type": "markdown",
   "metadata": {},
   "source": [
    "## GBDT"
   ]
  },
  {
   "cell_type": "code",
   "execution_count": 5,
   "metadata": {
    "collapsed": false
   },
   "outputs": [],
   "source": [
    "from sklearn.metrics import mean_squared_error\n",
    "from sklearn.ensemble import GradientBoostingRegressor\n",
    "from sklearn.model_selection import GridSearchCV\n",
    "from sklearn.model_selection import TimeSeriesSplit"
   ]
  },
  {
   "cell_type": "markdown",
   "metadata": {
    "collapsed": true
   },
   "source": [
    "用CV集选出最好的参数，这里只选择部分参数，否则运行时间实在太长。"
   ]
  },
  {
   "cell_type": "code",
   "execution_count": 6,
   "metadata": {
    "collapsed": false
   },
   "outputs": [
    {
     "name": "stdout",
     "output_type": "stream",
     "text": [
      "Best parameters set found on development set:\n",
      "{'max_features': 8, 'n_estimators': 450, 'max_depth': 2}\n"
     ]
    }
   ],
   "source": [
    "tuned_parameters = [{'n_estimators':range(50,500,50),'max_depth': range(1,10), 'max_features': range(1,10)}]\n",
    "gbdt = GradientBoostingRegressor()\n",
    "tscv = TimeSeriesSplit(n_splits = 5)\n",
    "clf = GridSearchCV(gbdt, tuned_parameters, cv = tscv,n_jobs = -1)\n",
    "clf.fit(X_train, Y_train)\n",
    "print \"Best parameters set found on development set:\"\n",
    "print clf.best_params_\n"
   ]
  },
  {
   "cell_type": "markdown",
   "metadata": {},
   "source": [
    "用全部的训练数据作训练，得出测试集上的$R^2$，可以看出gbdt比knn还是有不少提升。"
   ]
  },
  {
   "cell_type": "code",
   "execution_count": 12,
   "metadata": {
    "collapsed": false
   },
   "outputs": [
    {
     "data": {
      "text/plain": [
       "0.058392871307317733"
      ]
     },
     "execution_count": 12,
     "metadata": {},
     "output_type": "execute_result"
    }
   ],
   "source": [
    "perfect_gbdt = GradientBoostingRegressor(max_features = 8, n_estimators = 450, max_depth = 2)\n",
    "perfect_gbdt.fit(X_train,Y_train)\n",
    "perfect_gbdt.score(x_test,y_test)"
   ]
  },
  {
   "cell_type": "markdown",
   "metadata": {},
   "source": [
    "## Ensemble"
   ]
  },
  {
   "cell_type": "markdown",
   "metadata": {},
   "source": [
    "接下来考虑用集成学习，将一些模型组合起来。"
   ]
  },
  {
   "cell_type": "markdown",
   "metadata": {},
   "source": [
    "### Hard voting in Regression(Average)"
   ]
  },
  {
   "cell_type": "code",
   "execution_count": null,
   "metadata": {
    "collapsed": true
   },
   "outputs": [],
   "source": [
    "from sklearn import svm\n",
    "from sklearn.metrics import r2_score\n",
    "\n",
    "gbdt = GradientBoostingRegressor(max_features = 8, n_estimators = 450, max_depth = 2)\n",
    "knn = neighbors.KNeighborsRegressor(n_neighbors = best_n)\n",
    "svr = svm.SVR()\n",
    "\n",
    "gbdt.fit(X_train,Y_train)\n",
    "knn.fit(X_train,Y_train)\n",
    "svr.fit(X_train,Y_train)\n",
    "\n",
    "gbdt_pre = gbdt.predict(x_test)\n",
    "knn_pre = knn.predict(x_test)\n",
    "svr_pre = svr.predict(x_test)\n",
    "\n",
    "y_pre = (gbdt_pre + knn_pre + svr_pre)/3\n",
    "r2 = r2_score(y_test,y_pre)\n",
    "print \"Hard average result is \" + str(r2)"
   ]
  },
  {
   "cell_type": "code",
   "execution_count": 15,
   "metadata": {
    "collapsed": true
   },
   "outputs": [],
   "source": [
    "import sklearn.metrics as sm"
   ]
  },
  {
   "cell_type": "code",
   "execution_count": 17,
   "metadata": {
    "collapsed": true
   },
   "outputs": [],
   "source": [
    "sm.r2_score?"
   ]
  },
  {
   "cell_type": "code",
   "execution_count": 19,
   "metadata": {
    "collapsed": false
   },
   "outputs": [
    {
     "name": "stdout",
     "output_type": "stream",
     "text": [
      "Hard average result is2\n"
     ]
    }
   ],
   "source": [
    "a = 2\n",
    "print \"Hard average result is\" + str(a)"
   ]
  },
  {
   "cell_type": "code",
   "execution_count": null,
   "metadata": {
    "collapsed": true
   },
   "outputs": [],
   "source": []
  }
 ],
 "metadata": {
  "kernelspec": {
   "display_name": "Python 2",
   "language": "python",
   "name": "python2"
  },
  "language_info": {
   "codemirror_mode": {
    "name": "ipython",
    "version": 2
   },
   "file_extension": ".py",
   "mimetype": "text/x-python",
   "name": "python",
   "nbconvert_exporter": "python",
   "pygments_lexer": "ipython2",
   "version": "2.7.12"
  }
 },
 "nbformat": 4,
 "nbformat_minor": 0
}
